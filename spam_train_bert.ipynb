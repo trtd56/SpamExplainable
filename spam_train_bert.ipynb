{
  "nbformat": 4,
  "nbformat_minor": 0,
  "metadata": {
    "colab": {
      "name": "spam_train_bert.ipynb",
      "private_outputs": true,
      "provenance": [],
      "collapsed_sections": [],
      "toc_visible": true,
      "include_colab_link": true
    },
    "kernelspec": {
      "name": "python3",
      "display_name": "Python 3"
    },
    "language_info": {
      "name": "python"
    },
    "accelerator": "GPU"
  },
  "cells": [
    {
      "cell_type": "markdown",
      "metadata": {
        "id": "view-in-github",
        "colab_type": "text"
      },
      "source": [
        "<a href=\"https://colab.research.google.com/github/trtd56/SpamExplainable/blob/main/spam_train_bert.ipynb\" target=\"_parent\"><img src=\"https://colab.research.google.com/assets/colab-badge.svg\" alt=\"Open In Colab\"/></a>"
      ]
    },
    {
      "cell_type": "markdown",
      "metadata": {
        "id": "Uh8QKhwfs8E0"
      },
      "source": [
        "# 文書分類における古典的手法とBERTの判断根拠の比較"
      ]
    },
    {
      "cell_type": "markdown",
      "metadata": {
        "id": "cOeYGZ3CqvGZ"
      },
      "source": [
        "必要なライブラリのインストール"
      ]
    },
    {
      "cell_type": "code",
      "metadata": {
        "id": "F_9il2IAiP5u"
      },
      "source": [
        "!pip install -U transformers\n",
        "!wget https://storage.googleapis.com/what-if-tool-resources/lit-models/sst2_tiny.tar.gz\n",
        "!tar -xvf sst2_tiny.tar.gz\n",
        "!pip install lit_nlp tfds-nightly\n",
        "!pip install lime"
      ],
      "execution_count": null,
      "outputs": []
    },
    {
      "cell_type": "markdown",
      "metadata": {
        "id": "BNkEeJGhqzkk"
      },
      "source": [
        "SMS Spam Collectionのデータのダウンロードと解凍"
      ]
    },
    {
      "cell_type": "code",
      "metadata": {
        "id": "crIi_cROXu6w"
      },
      "source": [
        "!wget https://archive.ics.uci.edu/ml/machine-learning-databases/00228/smsspamcollection.zip\n",
        "!unzip smsspamcollection.zip"
      ],
      "execution_count": null,
      "outputs": []
    },
    {
      "cell_type": "code",
      "metadata": {
        "id": "WvUNt_D2rX3K"
      },
      "source": [
        "from sklearn.model_selection import train_test_split\n",
        "import pandas as pd\n",
        "import torch\n",
        "import torch.nn as nn\n",
        "from transformers import  AutoModel, AutoTokenizer, get_cosine_schedule_with_warmup, AdamW, BertConfig\n",
        "from tqdm.notebook import tqdm\n",
        "from IPython.display import display, HTML\n",
        "import numpy as np\n",
        "from matplotlib import pyplot as plt\n",
        "from sklearn.metrics import confusion_matrix\n",
        "\n",
        "device = torch.device(\"cuda\")"
      ],
      "execution_count": null,
      "outputs": []
    },
    {
      "cell_type": "markdown",
      "metadata": {
        "id": "CBiF4Q8gs5hG"
      },
      "source": [
        "## 学習"
      ]
    },
    {
      "cell_type": "markdown",
      "metadata": {
        "id": "p8aMADXeq890"
      },
      "source": [
        "データの読み込みと分割"
      ]
    },
    {
      "cell_type": "code",
      "metadata": {
        "id": "moocyn2qF0w3"
      },
      "source": [
        "SEED = 0\n",
        "\n",
        "spam_df = pd.read_csv(\"SMSSpamCollection\", sep='\\t', header=None)  # データの読み込み\n",
        "\n",
        "# ラベルと文章を分ける\n",
        "labels = spam_df[0].values\n",
        "sentences = spam_df[1].values\n",
        "\n",
        "label_dic = {'ham': 0, 'spam': 1}  # spamを真値とする\n",
        "label_dic_inv = {v: k for k, v in label_dic.items()}\n",
        "label_ids = [label_dic[i] for i in labels]\n",
        "\n",
        "# 7:3に学習データとテストデータを分割する\n",
        "train_sentence, test_sentence, y_train, y_test = train_test_split(sentences, label_ids, test_size=0.3, random_state=SEED, stratify=label_ids)"
      ],
      "execution_count": null,
      "outputs": []
    },
    {
      "cell_type": "markdown",
      "metadata": {
        "id": "LKx2tX8hSvXA"
      },
      "source": [
        "spam学習用のデータセット"
      ]
    },
    {
      "cell_type": "code",
      "metadata": {
        "id": "NlyowtlX0Wqh"
      },
      "source": [
        "class SpamDataset():\n",
        "    def __init__(self, toks, targets):\n",
        "        self.toks = toks\n",
        "        self.targets = targets\n",
        "\n",
        "    def __len__(self):\n",
        "        return len(self.toks)\n",
        "\n",
        "    def __getitem__(self, item):\n",
        "        tok = self.toks[item]\n",
        "        target = self.targets[item]\n",
        "\n",
        "        input_ids = torch.tensor(tok[\"input_ids\"])\n",
        "        attention_mask = torch.tensor(tok[\"attention_mask\"])\n",
        "        token_type_ids = torch.tensor(tok[\"token_type_ids\"])\n",
        "        target = torch.tensor(target).float()\n",
        "\n",
        "        return {\n",
        "            \"input_ids\": input_ids,\n",
        "            \"attention_mask\": attention_mask,\n",
        "            \"token_type_ids\": token_type_ids,\n",
        "            \"target\": target,\n",
        "        }"
      ],
      "execution_count": null,
      "outputs": []
    },
    {
      "cell_type": "markdown",
      "metadata": {
        "id": "4AYpj1Muraey"
      },
      "source": [
        "スパム学習用のBERTクラス"
      ]
    },
    {
      "cell_type": "code",
      "metadata": {
        "id": "KM-IVnxy0amJ"
      },
      "source": [
        "class SpamBert(nn.Module):\n",
        "    def __init__(self, model_type, tokenizer):\n",
        "        super(SpamBert, self).__init__()\n",
        "\n",
        "        bert_conf = BertConfig(model_type, output_hidden_states=False, output_attentions=True)\n",
        "        bert_conf.vocab_size = tokenizer.vocab_size\n",
        "\n",
        "        self.bert = AutoModel.from_pretrained(model_type, config=bert_conf)\n",
        "        self.fc = nn.Linear(bert_conf.hidden_size, 1)\n",
        "\n",
        "    def forward(self, ids, mask, token_type_ids):\n",
        "        out = self.bert(ids, attention_mask=mask, token_type_ids=token_type_ids)\n",
        "        h = out['pooler_output']\n",
        "        a = out['attentions']\n",
        "        h = nn.ReLU()(h)\n",
        "        h = self.fc(h)\n",
        "        h = h[:, 0]\n",
        "        a = a[-1].sum(1)[:, 0, :]\n",
        "        return h, a"
      ],
      "execution_count": null,
      "outputs": []
    },
    {
      "cell_type": "markdown",
      "metadata": {
        "id": "fpJmgNtFrd7q"
      },
      "source": [
        "学習・評価用関数"
      ]
    },
    {
      "cell_type": "code",
      "metadata": {
        "id": "6O3zZTEd0gsT"
      },
      "source": [
        "loss_fn = nn.BCEWithLogitsLoss()\n",
        "\n",
        "def train_loop(train_dataloader, model, optimizer, device, tqdm):\n",
        "    losses = []\n",
        "    model.train()\n",
        "    optimizer.zero_grad()\n",
        "    for n_iter, d in tqdm(enumerate(train_dataloader), total=len(train_dataloader)):\n",
        "        input_ids = d[\"input_ids\"].to(device)\n",
        "        attention_mask = d[\"attention_mask\"].to(device)\n",
        "        token_type_ids = d[\"token_type_ids\"].to(device)\n",
        "        target = d[\"target\"].to(device)\n",
        "\n",
        "        output, _ = model(input_ids, attention_mask, token_type_ids)\n",
        "        loss = loss_fn(output, target)\n",
        "        loss.backward()\n",
        "\n",
        "        optimizer.step()\n",
        "        optimizer.zero_grad()\n",
        "\n",
        "        losses.append(loss.item())\n",
        "    return losses\n",
        "\n",
        "def test_loop(test_dataloader, model, device, tqdm):\n",
        "    losses, predicts = [], []\n",
        "    model.eval()\n",
        "    for n_iter, d in tqdm(enumerate(test_dataloader), total=len(test_dataloader)):\n",
        "        input_ids = d[\"input_ids\"].to(device)\n",
        "        attention_mask = d[\"attention_mask\"].to(device)\n",
        "        token_type_ids = d[\"token_type_ids\"].to(device)\n",
        "        target = d[\"target\"].to(device)\n",
        "\n",
        "        with torch.no_grad():\n",
        "            output, _ = model(input_ids, attention_mask, token_type_ids)\n",
        "\n",
        "        loss = loss_fn(output, target)\n",
        "        losses.append(loss.item())\n",
        "        predicts += output.sigmoid().cpu().tolist()\n",
        "\n",
        "    return predicts, np.array(losses).mean()"
      ],
      "execution_count": null,
      "outputs": []
    },
    {
      "cell_type": "markdown",
      "metadata": {
        "id": "tCOTG9q3ruY_"
      },
      "source": [
        "パラメータとトークナイザの定義"
      ]
    },
    {
      "cell_type": "code",
      "metadata": {
        "id": "9uLTfY2iSDYW"
      },
      "source": [
        "MODEL_TYPE = \"bert-base-uncased\"\n",
        "LEAENING_RATE = 1e-6\n",
        "BATCH_SIZE = 64\n",
        "N_EPOCHS = 10\n",
        "\n",
        "TOKENIZER = AutoTokenizer.from_pretrained(MODEL_TYPE)"
      ],
      "execution_count": null,
      "outputs": []
    },
    {
      "cell_type": "markdown",
      "metadata": {
        "id": "T22rcj4Mr4Fi"
      },
      "source": [
        "学習データとテストデータをともにトークナイズし、dataloaderを定義する"
      ]
    },
    {
      "cell_type": "code",
      "metadata": {
        "id": "F_-XOXXtG6U9"
      },
      "source": [
        "train_toks = []\n",
        "for sent in train_sentence:\n",
        "    tok = TOKENIZER.encode_plus(sent,\n",
        "                                   add_special_tokens=True,\n",
        "                                   max_length=128,\n",
        "                                   pad_to_max_length=True)\n",
        "    train_toks.append(tok)\n",
        "\n",
        "test_toks = []\n",
        "for sent in test_sentence:\n",
        "    tok = TOKENIZER.encode_plus(sent,\n",
        "                                   add_special_tokens=True,\n",
        "                                   max_length=128,\n",
        "                                   pad_to_max_length=True)\n",
        "    test_toks.append(tok)\n",
        "\n",
        "train_dataset = SpamDataset(train_toks, y_train)\n",
        "test_dataset = SpamDataset(test_toks, y_test)\n",
        "train_dataloader = torch.utils.data.DataLoader(\n",
        "        train_dataset,\n",
        "        batch_size=BATCH_SIZE,\n",
        "        drop_last=True,\n",
        "        shuffle=True,\n",
        ")\n",
        "test_dataloader = torch.utils.data.DataLoader(\n",
        "        test_dataset,\n",
        "        batch_size=BATCH_SIZE,\n",
        "        drop_last=False,\n",
        "        shuffle=False,\n",
        ")"
      ],
      "execution_count": null,
      "outputs": []
    },
    {
      "cell_type": "markdown",
      "metadata": {
        "id": "3_BBcTU7sV8u"
      },
      "source": [
        "学習を行う"
      ]
    },
    {
      "cell_type": "code",
      "metadata": {
        "id": "ZYQhjaqmf9ID"
      },
      "source": [
        "model = SpamBert(MODEL_TYPE, TOKENIZER)\n",
        "model.to(device)\n",
        "\n",
        "optimizer = AdamW(model.parameters(), lr=LEAENING_RATE)\n",
        "\n",
        "train_losses, test_losses = [], []\n",
        "for epoch in range(N_EPOCHS):\n",
        "    print(f\"Epoch-{epoch}\")\n",
        "    train_losses += train_loop(train_dataloader, model, optimizer, device, tqdm)\n",
        "    y_pred, test_loss = test_loop(test_dataloader, model, device, tqdm)\n",
        "\n",
        "    test_losses.append(test_loss)\n",
        "\n",
        "    # 各epochでのの　Confusion Matrixを確認\n",
        "    _y_pred = (np.array(y_pred) > 0.5).astype(int)\n",
        "    cm = confusion_matrix(y_test, _y_pred)\n",
        "    cm_df = pd.DataFrame(cm,columns=['Predicted ham', 'Predicted spam'], index=['Actual ham', 'Actual spam'])\n",
        "    display(cm_df)"
      ],
      "execution_count": null,
      "outputs": []
    },
    {
      "cell_type": "markdown",
      "metadata": {
        "id": "wMX79dp4sozR"
      },
      "source": [
        "学習結果の確認"
      ]
    },
    {
      "cell_type": "code",
      "metadata": {
        "id": "KkL6kNbIadch"
      },
      "source": [
        "plt.plot(train_losses)"
      ],
      "execution_count": null,
      "outputs": []
    },
    {
      "cell_type": "code",
      "metadata": {
        "id": "Mw9Ym1eua8Xd"
      },
      "source": [
        "plt.plot(test_losses)"
      ],
      "execution_count": null,
      "outputs": []
    },
    {
      "cell_type": "markdown",
      "metadata": {
        "id": "BzA_s9N3s1mv"
      },
      "source": [
        "## Attention"
      ]
    },
    {
      "cell_type": "code",
      "metadata": {
        "id": "xLvoL1rhrFHL"
      },
      "source": [
        "def highlight_r(word, attn):\n",
        "  html_color = '#%02X%02X%02X' % (255, int(255*(1 - attn)), int(255*(1 - attn)))\n",
        "  return '<span style=\"background-color: {}\">{}</span>'.format(html_color, word)"
      ],
      "execution_count": null,
      "outputs": []
    },
    {
      "cell_type": "code",
      "metadata": {
        "id": "qiDoWOs-ofql"
      },
      "source": [
        "def show_bert_explaination(check_idx):\n",
        "    for idx, d in enumerate(test_dataset):\n",
        "        if idx == check_idx:\n",
        "            break\n",
        "\n",
        "    input_ids = d[\"input_ids\"].to(device).unsqueeze(0)\n",
        "    attention_mask = d[\"attention_mask\"].to(device).unsqueeze(0)\n",
        "    token_type_ids = d[\"token_type_ids\"].to(device).unsqueeze(0)\n",
        "    target = d[\"target\"].to(device)\n",
        "\n",
        "    with torch.no_grad():\n",
        "        output, attention = model(input_ids, attention_mask, token_type_ids)\n",
        "\n",
        "    attention = attention.cpu()[0].numpy()\n",
        "    attention_mask = attention_mask.cpu()[0].numpy()\n",
        "    attention = attention[attention_mask == 1][1:-1]\n",
        "\n",
        "    ids = input_ids.cpu()[0][attention_mask == 1][1:-1].tolist()\n",
        "    tokens = TOKENIZER.convert_ids_to_tokens(ids)\n",
        "\n",
        "    html_outputs = []\n",
        "    \n",
        "    for word, attn in zip(tokens, attention):\n",
        "        html_outputs.append(highlight_r(word, attn))\n",
        "    \n",
        "    display(HTML(' '.join(html_outputs)))"
      ],
      "execution_count": null,
      "outputs": []
    },
    {
      "cell_type": "markdown",
      "metadata": {
        "id": "oUKuPDKSzAf0"
      },
      "source": [
        "スパム"
      ]
    },
    {
      "cell_type": "code",
      "metadata": {
        "id": "OFEHD9mQoxNG"
      },
      "source": [
        "show_bert_explaination(15)\n",
        "show_bert_explaination(27)\n",
        "show_bert_explaination(28)"
      ],
      "execution_count": null,
      "outputs": []
    },
    {
      "cell_type": "markdown",
      "metadata": {
        "id": "h8DOFcfnzEdH"
      },
      "source": [
        "非スパム"
      ]
    },
    {
      "cell_type": "code",
      "metadata": {
        "id": "pcMYpVCxt8el"
      },
      "source": [
        "show_bert_explaination(0)\n",
        "show_bert_explaination(1)\n",
        "show_bert_explaination(2)"
      ],
      "execution_count": null,
      "outputs": []
    },
    {
      "cell_type": "markdown",
      "metadata": {
        "id": "1_Etbuu5TsS5"
      },
      "source": [
        "## LIME"
      ]
    },
    {
      "cell_type": "code",
      "metadata": {
        "id": "mJ6liJKuXLm7"
      },
      "source": [
        "def predictor(texts):\n",
        "    tok = TOKENIZER.batch_encode_plus(texts, padding=True)\n",
        "    input_ids = torch.tensor(tok['input_ids']).to(device)\n",
        "    attention_mask = torch.tensor(tok['attention_mask']).to(device)\n",
        "    token_type_ids = torch.tensor(tok['token_type_ids']).to(device)\n",
        "\n",
        "    with torch.no_grad():\n",
        "        output, _ = model(input_ids, attention_mask, token_type_ids)\n",
        "\n",
        "    probas = output.sigmoid().cpu().numpy()\n",
        "    return np.vstack([1 - probas, probas]).T"
      ],
      "execution_count": null,
      "outputs": []
    },
    {
      "cell_type": "code",
      "metadata": {
        "id": "_j8R0hPeYb6w"
      },
      "source": [
        "from lime.lime_text import LimeTextExplainer\n",
        "explainer = LimeTextExplainer(class_names=['ham', 'spam'])"
      ],
      "execution_count": null,
      "outputs": []
    },
    {
      "cell_type": "code",
      "metadata": {
        "id": "h3rXqL1fYh8C"
      },
      "source": [
        "str_to_predict = test_sentence[0]\n",
        "exp = explainer.explain_instance(str_to_predict, predictor, num_features=20, num_samples=100)\n",
        "exp.show_in_notebook(text=str_to_predict)"
      ],
      "execution_count": null,
      "outputs": []
    },
    {
      "cell_type": "code",
      "metadata": {
        "id": "4OVeKdVSdGyS"
      },
      "source": [
        "str_to_predict = test_sentence[27]\n",
        "exp = explainer.explain_instance(str_to_predict, predictor, num_features=20, num_samples=100)\n",
        "exp.show_in_notebook(text=str_to_predict)"
      ],
      "execution_count": null,
      "outputs": []
    },
    {
      "cell_type": "markdown",
      "metadata": {
        "id": "QOn32u-wgeYJ"
      },
      "source": [
        "## Grad-CAM"
      ]
    },
    {
      "cell_type": "code",
      "metadata": {
        "id": "eLIBOzohgg8A"
      },
      "source": [
        "class GradCAM:\n",
        "    def __init__(self, model, feature_layer):\n",
        "        self.model = model\n",
        "        self.feature_layer = feature_layer\n",
        "        self.model.eval()\n",
        "        self.feature_grad = None\n",
        "        self.feature_map = None\n",
        "        self.hooks = []\n",
        "\n",
        "        def save_feature_grad(module, in_grad, out_grad):\n",
        "            self.feature_grad = out_grad[0]\n",
        "        self.hooks.append(self.feature_layer.register_backward_hook(save_feature_grad))\n",
        "\n",
        "        def save_feature_map(module, inp, outp):\n",
        "            self.feature_map = outp[0]\n",
        "        self.hooks.append(self.feature_layer.register_forward_hook(save_feature_map))\n",
        "\n",
        "    def forward(self, input_ids, attention_mask, token_type_ids):\n",
        "        return self.model(input_ids, attention_mask, token_type_ids)\n",
        "\n",
        "    def backward_on_target(self, output, target):\n",
        "        self.model.zero_grad()\n",
        "        output.backward(gradient=target, retain_graph=True)\n",
        "\n",
        "    def clear_hook(self):\n",
        "        for hook in self.hooks:\n",
        "            hook.remove()"
      ],
      "execution_count": null,
      "outputs": []
    },
    {
      "cell_type": "code",
      "metadata": {
        "id": "_TBxE_36gg-4"
      },
      "source": [
        "grad_cam = GradCAM(model, model.bert.encoder.layer[-1])"
      ],
      "execution_count": null,
      "outputs": []
    },
    {
      "cell_type": "code",
      "metadata": {
        "id": "dMn6tAprjSYn"
      },
      "source": [
        "for idx, d in enumerate(test_dataset):\n",
        "    if idx == 27:\n",
        "        break\n",
        "input_ids = d[\"input_ids\"].to(device).unsqueeze(0)\n",
        "attention_mask = d[\"attention_mask\"].to(device).unsqueeze(0)\n",
        "token_type_ids = d[\"token_type_ids\"].to(device).unsqueeze(0)"
      ],
      "execution_count": null,
      "outputs": []
    },
    {
      "cell_type": "code",
      "metadata": {
        "id": "rucVDk9GjbRA"
      },
      "source": [
        "model_output, _ = grad_cam.forward(input_ids, attention_mask, token_type_ids)\n",
        "predicted_label = model_output.sigmoid()\n",
        "grad_cam.backward_on_target(model_output, predicted_label)\n",
        "\n",
        "feature_grad = grad_cam.feature_grad.cpu().data.numpy()[0]\n",
        "weights = np.mean(feature_grad, axis=1)\n",
        "\n",
        "feature_map = grad_cam.feature_map.cpu().data.numpy()\n",
        "\n",
        "cam = np.sum((weights * feature_map.T), axis=2).T\n",
        "cam = np.maximum(cam, 0)\n",
        "grad_cam.clear_hook()"
      ],
      "execution_count": null,
      "outputs": []
    },
    {
      "cell_type": "code",
      "metadata": {
        "id": "0lVqZaY2qn-N"
      },
      "source": [
        "attention_mask = attention_mask.cpu()[0].numpy()\n",
        "ids = input_ids.cpu()[0][attention_mask == 1][1:-1].tolist()\n",
        "tokens = TOKENIZER.convert_ids_to_tokens(ids)\n",
        "\n",
        "html_outputs = []\n",
        "    \n",
        "for word, attn in zip(tokens, cam.sum(1)):\n",
        "    html_outputs.append(highlight_r(word, attn))\n",
        "    \n",
        "display(HTML(' '.join(html_outputs)))"
      ],
      "execution_count": null,
      "outputs": []
    },
    {
      "cell_type": "code",
      "metadata": {
        "id": "u1NhupxjemQ9"
      },
      "source": [
        "cam_w = cam.sum(1)[attention_mask == 1][1:-1].tolist()\n",
        "x = np.arange(len(tokens))"
      ],
      "execution_count": null,
      "outputs": []
    },
    {
      "cell_type": "code",
      "metadata": {
        "id": "ph6LC54feyfw"
      },
      "source": [
        "from sklearn.preprocessing import MinMaxScaler"
      ],
      "execution_count": null,
      "outputs": []
    },
    {
      "cell_type": "code",
      "metadata": {
        "id": "ENVBgJH3etpt"
      },
      "source": [
        "scaler = MinMaxScaler()\n",
        "color_arr = scaler.fit_transform(np.array(cam_w).reshape(-1, 1))"
      ],
      "execution_count": null,
      "outputs": []
    },
    {
      "cell_type": "code",
      "metadata": {
        "id": "7D1dMyvYfFqa"
      },
      "source": [
        "colorlist = [[1.0, 1-min([c, 1.0]), 1.0] for c in color_arr.T[0]]"
      ],
      "execution_count": null,
      "outputs": []
    },
    {
      "cell_type": "code",
      "metadata": {
        "id": "OsIWsERO0cRk"
      },
      "source": [
        "width = 0.35\n",
        "\n",
        "fig, ax = plt.subplots(figsize=(24,4))\n",
        "\n",
        "rect = ax.bar(x, cam_w, width, color=colorlist)\n",
        "ax.set_xticks(x)\n",
        "ax.set_xticklabels(tokens, rotation=45)\n",
        "plt.ylim(0.027, 0.035)\n",
        "\n",
        "plt.show()"
      ],
      "execution_count": null,
      "outputs": []
    },
    {
      "cell_type": "markdown",
      "metadata": {
        "id": "dX5Cuc8BGRAw"
      },
      "source": [
        "## LIT(WIP)"
      ]
    },
    {
      "cell_type": "code",
      "metadata": {
        "id": "SVN5F48AFqZw"
      },
      "source": [
        "from lit_nlp.api import dataset as lit_dataset\n",
        "from lit_nlp.api import types as lit_types\n",
        "\n",
        "class SpamDataset_lit(lit_dataset.Dataset):\n",
        "\n",
        "  LABELS = ['0', '1']\n",
        "\n",
        "  def __init__(self):\n",
        "    self._examples = []\n",
        "    for X, y in zip(test_sentence, y_test):\n",
        "      self._examples.append({\n",
        "          'sentence': X,\n",
        "          'label': self.LABELS[y],\n",
        "      })\n",
        "\n",
        "  def spec(self):\n",
        "    return {\n",
        "        'sentence': lit_types.TextSegment(),\n",
        "        'label': lit_types.CategoryLabel(vocab=self.LABELS)\n",
        "    }"
      ],
      "execution_count": null,
      "outputs": []
    },
    {
      "cell_type": "code",
      "metadata": {
        "id": "5age9qATJZ7W"
      },
      "source": [
        "BERT_CONF = BertConfig(MODEL_TYPE, output_hidden_states=False, output_attentions=True)\n",
        "BERT_CONF.vocab_size = TOKENIZER.vocab_size"
      ],
      "execution_count": null,
      "outputs": []
    },
    {
      "cell_type": "code",
      "metadata": {
        "id": "rgNywSmMLbw0"
      },
      "source": [
        "model.config = BERT_CONF"
      ],
      "execution_count": null,
      "outputs": []
    },
    {
      "cell_type": "code",
      "metadata": {
        "id": "g4bobnFaJUJD"
      },
      "source": [
        "from lit_nlp.api import model as lit_model\n",
        "class SpamBert_lit(lit_model.Model):\n",
        "    compute_grads = False\n",
        "    def __init__(self):\n",
        "        self.model = model\n",
        "        self.config = BERT_CONF\n",
        "        self.model.eval()\n",
        "\n",
        "    def max_minibatch_size(self):\n",
        "        return 8\n",
        "\n",
        "    def predict_minibatch(self, inputs):\n",
        "        encoded_input = TOKENIZER.batch_encode_plus(\n",
        "            [sent['sentence'] for sent in inputs],\n",
        "            add_special_tokens=True,\n",
        "            max_length=128,\n",
        "            pad_to_max_length=True)\n",
        "        encoded_input = {\n",
        "            key : torch.tensor(value, dtype=torch.long) for key, value in encoded_input.items()\n",
        "        }\n",
        "        \n",
        "        if torch.cuda.is_available():\n",
        "            self.model.cuda()\n",
        "            for tensor in encoded_input:\n",
        "                encoded_input[tensor] = encoded_input[tensor].cuda()\n",
        "    \n",
        "        with torch.set_grad_enabled(self.compute_grads):\n",
        "            outputs = self.model(encoded_input['input_ids'], encoded_input['attention_mask'])\n",
        "            logits, _ = outputs\n",
        "            out= self.model.bert(encoded_input['input_ids'], encoded_input['attention_mask'])\n",
        "    \n",
        "            output_attentions = out['attentions']\n",
        "            last_hidden_state = out['last_hidden_state']\n",
        "            #if self.model.config.output_attentions:\n",
        "            #    logits, hidden_states, output_attentions = outputs[0], outputs[1], outputs[2]\n",
        "            #else:\n",
        "            #    logits, hidden_states = outputs[0], outputs[1]\n",
        "\n",
        "        batched_outputs = {\n",
        "            \"input_ids\": encoded_input[\"input_ids\"],\n",
        "            \"ntok\": torch.sum(encoded_input[\"attention_mask\"], dim=1),\n",
        "            #\"cls_emb\": hidden_states[-1][:, 0],\n",
        "            \"cls_emb\": last_hidden_state[:, 0],\n",
        "            \"score\": torch.squeeze(logits, dim=-1)\n",
        "        }\n",
        "        \n",
        "        if self.model.config.output_attentions:\n",
        "            assert len(output_attentions) == self.model.config.num_hidden_layers\n",
        "            for i, layer_attention in enumerate(output_attentions[-2:]):\n",
        "                batched_outputs[f\"layer_{i}/attention\"] = layer_attention\n",
        "\n",
        "        if self.compute_grads:\n",
        "            scalar_pred_for_gradients = batched_outputs[\"score\"]\n",
        "            batched_outputs[\"input_emb_grad\"] = torch.autograd.grad(\n",
        "                scalar_pred_for_gradients,\n",
        "                hidden_states[0],\n",
        "                grad_outputs=torch.ones_like(scalar_pred_for_gradients)\n",
        "            )[0]\n",
        "\n",
        "        detached_outputs = {k: v.cpu().numpy() for k, v in batched_outputs.items()}\n",
        "        for output in utils.unbatch_preds(detached_outputs):\n",
        "            ntok = output.pop(\"ntok\")\n",
        "            output[\"tokens\"] = self.tokenizer.convert_ids_to_tokens(\n",
        "                output.pop(\"input_ids\")[1:ntok - 1]\n",
        "            )\n",
        "            if self.compute_grads:\n",
        "                output[\"token_grad_sentence\"] = output[\"input_emb_grad\"][:ntok]\n",
        "            if self.model.config.output_attentions:\n",
        "                for key in output:\n",
        "                    if not re.match(r\"layer_(\\d+)/attention\", key):\n",
        "                        continue\n",
        "                    output[key] = output[key][:, :ntok, :ntok].transpose((0, 2, 1))\n",
        "                    output[key] = output[key].copy()\n",
        "            yield output\n",
        "\n",
        "    def input_spec(self) -> lit_types.Spec:\n",
        "        return {\n",
        "            \"sentence\": lit_types.TextSegment(),\n",
        "            #\"label\": lit_types.RegressionScore(),\n",
        "            'label': lit_types.CategoryLabel(vocab=['0', '1']),\n",
        "        }\n",
        "\n",
        "    def output_spec(self) -> lit_types.Spec:\n",
        "        ret = {\n",
        "            \"tokens\": lit_types.Tokens(),\n",
        "            \"score\": lit_types.RegressionScore(parent=\"label\"),\n",
        "            #'label': lit_types.CategoryLabel(vocab=['0', '1']),\n",
        "            \"cls_emb\": lit_types.Embeddings()\n",
        "        }\n",
        "        if self.compute_grads:\n",
        "            ret[\"token_grad_sentence\"] = lit_types.TokenGradients(\n",
        "                align=\"tokens\"\n",
        "            )\n",
        "        if self.model.config.output_attentions:\n",
        "            for i in range(2): # self.model.config.num_hidden_layers\n",
        "                ret[f\"layer_{i}/attention\"] = lit_types.AttentionHeads(\n",
        "                    align_in=\"tokens\", align_out=\"tokens\")\n",
        "        return ret"
      ],
      "execution_count": null,
      "outputs": []
    },
    {
      "cell_type": "code",
      "metadata": {
        "id": "toT-M0bwKi0u"
      },
      "source": [
        "datasets = {\n",
        "    'test':SpamDataset_lit(),\n",
        "}\n",
        "models = {\n",
        "    'model_0': SpamBert_lit(),\n",
        "}\n",
        "\n",
        "\n",
        "from lit_nlp import notebook\n",
        "widget = notebook.LitWidget(models, datasets, height=800)"
      ],
      "execution_count": null,
      "outputs": []
    },
    {
      "cell_type": "code",
      "metadata": {
        "id": "FGg1FkDfONpg"
      },
      "source": [
        "widget.render()"
      ],
      "execution_count": null,
      "outputs": []
    },
    {
      "cell_type": "code",
      "metadata": {
        "id": "FGYQFfHbz2GW"
      },
      "source": [
        ""
      ],
      "execution_count": null,
      "outputs": []
    }
  ]
}